{
 "cells": [
  {
   "cell_type": "markdown",
   "metadata": {},
   "source": [
    "はじめに\n",
    "--------\n",
    "\n",
    "Jupyter Notebookに [Hy](http://docs.hylang.org/en/stable/)をインストールします。\n",
    "Jupyterから利用できるようにするためには、[Calysto Hy](https://github.com/Calysto/calysto_hy)を利用します。\n",
    "\n",
    "Jupyter Notebookは[コンテナ](https://hub.docker.com/u/jupyter/)からインストールするのがお手軽です。\n",
    "ここでは scipy-notebookを利用します。簡易的(セキュアでは無いため)に起動するには、以下を実行します。\n",
    "\n",
    "```\n",
    "docker run -d -p 8181:8888 jupyter/scipy-notebook:da2c5a4d00fa start-notebook.sh --NotebookApp.token=''\n",
    "```\n",
    "\n",
    "ここで実行している Jupyter Notebook上で、Hyを利用できるようにインストールする手順は次の２つのステップで OK。"
   ]
  },
  {
   "cell_type": "code",
   "execution_count": 1,
   "metadata": {
    "scrolled": true
   },
   "outputs": [
    {
     "name": "stdout",
     "output_type": "stream",
     "text": [
      "Collecting clint\n",
      "  Downloading clint-0.5.1.tar.gz\n",
      "Collecting rply\n",
      "  Downloading rply-0.7.5-py2.py3-none-any.whl\n",
      "Collecting args (from clint)\n",
      "  Downloading args-0.1.0.tar.gz\n",
      "Collecting appdirs (from rply)\n",
      "  Downloading appdirs-1.4.3-py2.py3-none-any.whl\n",
      "Building wheels for collected packages: clint, args\n",
      "  Running setup.py bdist_wheel for clint ... \u001b[?25ldone\n",
      "\u001b[?25h  Stored in directory: /home/jovyan/.cache/pip/wheels/aa/65/4a/a0bceb0a6bee518b1dace4c803f24c4ac8febe55bdca0f14ed\n",
      "  Running setup.py bdist_wheel for args ... \u001b[?25ldone\n",
      "\u001b[?25h  Stored in directory: /home/jovyan/.cache/pip/wheels/0a/e0/66/35419f9f9ee41099a3631f0f308b9604bd1ffeabc066d69070\n",
      "Successfully built clint args\n",
      "Installing collected packages: args, clint, appdirs, rply\n",
      "Successfully installed appdirs-1.4.3 args-0.1.0 clint-0.5.1 rply-0.7.5\n",
      "Collecting git+https://github.com/Calysto/calysto_hy.git\n",
      "  Cloning https://github.com/Calysto/calysto_hy.git to /tmp/pip-kxwv5pkr-build\n",
      "Collecting metakernel (from calysto-hy==0.0.3)\n",
      "  Downloading metakernel-0.20.11-py2.py3-none-any.whl (99kB)\n",
      "\u001b[K    100% |████████████████████████████████| 102kB 65kB/s a 0:00:014\n",
      "\u001b[?25hCollecting hy (from calysto-hy==0.0.3)\n",
      "  Downloading hy-0.13.0.tar.gz (64kB)\n",
      "\u001b[K    100% |████████████████████████████████| 71kB 5.7MB/s eta 0:00:01\n",
      "\u001b[?25hRequirement already satisfied: pexpect>=4.2 in /opt/conda/lib/python3.6/site-packages (from metakernel->calysto-hy==0.0.3)\n",
      "Requirement already satisfied: ipykernel in /opt/conda/lib/python3.6/site-packages (from metakernel->calysto-hy==0.0.3)\n",
      "Requirement already satisfied: rply>=0.7.0 in /opt/conda/lib/python3.6/site-packages (from hy->calysto-hy==0.0.3)\n",
      "Collecting astor>=0.5 (from hy->calysto-hy==0.0.3)\n",
      "  Downloading astor-0.5-py2.py3-none-any.whl\n",
      "Requirement already satisfied: clint>=0.4 in /opt/conda/lib/python3.6/site-packages (from hy->calysto-hy==0.0.3)\n",
      "Requirement already satisfied: ipython>=4.0.0 in /opt/conda/lib/python3.6/site-packages (from ipykernel->metakernel->calysto-hy==0.0.3)\n",
      "Requirement already satisfied: jupyter-client in /opt/conda/lib/python3.6/site-packages (from ipykernel->metakernel->calysto-hy==0.0.3)\n",
      "Requirement already satisfied: traitlets>=4.1.0 in /opt/conda/lib/python3.6/site-packages (from ipykernel->metakernel->calysto-hy==0.0.3)\n",
      "Requirement already satisfied: tornado>=4.0 in /opt/conda/lib/python3.6/site-packages (from ipykernel->metakernel->calysto-hy==0.0.3)\n",
      "Requirement already satisfied: appdirs in /opt/conda/lib/python3.6/site-packages (from rply>=0.7.0->hy->calysto-hy==0.0.3)\n",
      "Requirement already satisfied: args in /opt/conda/lib/python3.6/site-packages (from clint>=0.4->hy->calysto-hy==0.0.3)\n",
      "Requirement already satisfied: setuptools>=18.5 in /opt/conda/lib/python3.6/site-packages (from ipython>=4.0.0->ipykernel->metakernel->calysto-hy==0.0.3)\n",
      "Requirement already satisfied: pygments in /opt/conda/lib/python3.6/site-packages (from ipython>=4.0.0->ipykernel->metakernel->calysto-hy==0.0.3)\n",
      "Requirement already satisfied: decorator in /opt/conda/lib/python3.6/site-packages (from ipython>=4.0.0->ipykernel->metakernel->calysto-hy==0.0.3)\n",
      "Requirement already satisfied: pickleshare in /opt/conda/lib/python3.6/site-packages (from ipython>=4.0.0->ipykernel->metakernel->calysto-hy==0.0.3)\n",
      "Requirement already satisfied: prompt-toolkit<2.0.0,>=1.0.4 in /opt/conda/lib/python3.6/site-packages (from ipython>=4.0.0->ipykernel->metakernel->calysto-hy==0.0.3)\n",
      "Requirement already satisfied: jedi>=0.10 in /opt/conda/lib/python3.6/site-packages (from ipython>=4.0.0->ipykernel->metakernel->calysto-hy==0.0.3)\n",
      "Requirement already satisfied: simplegeneric>0.8 in /opt/conda/lib/python3.6/site-packages (from ipython>=4.0.0->ipykernel->metakernel->calysto-hy==0.0.3)\n",
      "Requirement already satisfied: pyzmq>=13 in /opt/conda/lib/python3.6/site-packages (from jupyter-client->ipykernel->metakernel->calysto-hy==0.0.3)\n",
      "Requirement already satisfied: jupyter-core in /opt/conda/lib/python3.6/site-packages (from jupyter-client->ipykernel->metakernel->calysto-hy==0.0.3)\n",
      "Requirement already satisfied: python-dateutil>=2.1 in /opt/conda/lib/python3.6/site-packages (from jupyter-client->ipykernel->metakernel->calysto-hy==0.0.3)\n",
      "Requirement already satisfied: ipython-genutils in /opt/conda/lib/python3.6/site-packages (from traitlets>=4.1.0->ipykernel->metakernel->calysto-hy==0.0.3)\n",
      "Requirement already satisfied: six in /opt/conda/lib/python3.6/site-packages (from traitlets>=4.1.0->ipykernel->metakernel->calysto-hy==0.0.3)\n",
      "Requirement already satisfied: wcwidth in /opt/conda/lib/python3.6/site-packages (from prompt-toolkit<2.0.0,>=1.0.4->ipython>=4.0.0->ipykernel->metakernel->calysto-hy==0.0.3)\n",
      "Building wheels for collected packages: hy\n",
      "  Running setup.py bdist_wheel for hy ... \u001b[?25ldone\n",
      "\u001b[?25h  Stored in directory: /home/jovyan/.cache/pip/wheels/78/f8/00/ff1716d8b9766bca8b0159c5ffa93c113c6d3de6ecf6e2bb2d\n",
      "Successfully built hy\n",
      "Installing collected packages: metakernel, astor, hy, calysto-hy\n",
      "  Running setup.py install for calysto-hy ... \u001b[?25ldone\n",
      "\u001b[?25hSuccessfully installed astor-0.5 calysto-hy-0.0.3 hy-0.13.0 metakernel-0.20.11\n"
     ]
    }
   ],
   "source": [
    "!pip install clint rply\n",
    "!pip install git+https://github.com/Calysto/calysto_hy.git"
   ]
  },
  {
   "cell_type": "code",
   "execution_count": 2,
   "metadata": {},
   "outputs": [
    {
     "name": "stdout",
     "output_type": "stream",
     "text": [
      "[InstallKernelSpec] Installed kernelspec calysto_hy in /home/jovyan/.local/share/jupyter/kernels/calysto_hy\r\n"
     ]
    }
   ],
   "source": [
    "!python3 -m calysto_hy install --user"
   ]
  },
  {
   "cell_type": "markdown",
   "metadata": {},
   "source": [
    "ブラウザをリロードすると、新規 Notebookとして Calysto Hyを選択できるようになります。"
   ]
  }
 ],
 "metadata": {
  "kernelspec": {
   "display_name": "Python 3",
   "language": "python",
   "name": "python3"
  },
  "language_info": {
   "codemirror_mode": {
    "name": "ipython",
    "version": 3
   },
   "file_extension": ".py",
   "mimetype": "text/x-python",
   "name": "python",
   "nbconvert_exporter": "python",
   "pygments_lexer": "ipython3",
   "version": "3.6.2"
  }
 },
 "nbformat": 4,
 "nbformat_minor": 2
}
