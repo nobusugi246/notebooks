{
 "cells": [
  {
   "cell_type": "markdown",
   "metadata": {},
   "source": [
    "はじめに\n",
    "-------\n",
    "\n",
    "Hyにより Chainerのサンプルを記述します。"
   ]
  },
  {
   "cell_type": "markdown",
   "metadata": {},
   "source": [
    "Chainerのインストール\n",
    "-----------------"
   ]
  },
  {
   "cell_type": "code",
   "execution_count": 2,
   "metadata": {},
   "outputs": [
    {
     "name": "stdout",
     "output_type": "stream",
     "text": [
      "Collecting chainer\n",
      "  Downloading chainer-3.0.0.tar.gz (339kB)\n",
      "\u001b[K    100% |████████████████████████████████| 348kB 1.2MB/s ta 0:00:011\n",
      "\u001b[?25hCollecting filelock (from chainer)\n",
      "  Downloading filelock-2.0.12.tar.gz\n",
      "Collecting mock (from chainer)\n",
      "  Downloading mock-2.0.0-py2.py3-none-any.whl (56kB)\n",
      "\u001b[K    100% |████████████████████████████████| 61kB 5.3MB/s eta 0:00:01\n",
      "\u001b[?25hCollecting nose (from chainer)\n",
      "  Downloading nose-1.3.7-py3-none-any.whl (154kB)\n",
      "\u001b[K    100% |████████████████████████████████| 163kB 3.9MB/s eta 0:00:01\n",
      "\u001b[?25hRequirement already satisfied: numpy>=1.9.0 in /opt/conda/lib/python3.6/site-packages (from chainer)\n",
      "Requirement already satisfied: protobuf>=3.0.0 in /opt/conda/lib/python3.6/site-packages (from chainer)\n",
      "Requirement already satisfied: six>=1.9.0 in /opt/conda/lib/python3.6/site-packages (from chainer)\n",
      "Collecting pbr>=0.11 (from mock->chainer)\n",
      "  Downloading pbr-3.1.1-py2.py3-none-any.whl (99kB)\n",
      "\u001b[K    100% |████████████████████████████████| 102kB 2.2MB/s a 0:00:01\n",
      "\u001b[?25hRequirement already satisfied: setuptools in /opt/conda/lib/python3.6/site-packages (from protobuf>=3.0.0->chainer)\n",
      "Building wheels for collected packages: chainer, filelock\n",
      "  Running setup.py bdist_wheel for chainer ... \u001b[?25ldone\n",
      "\u001b[?25h  Stored in directory: /home/jovyan/.cache/pip/wheels/50/a6/5f/1b4d884fcc4e079cfc6f60f1ba0f5d1cffff63be09c111e273\n",
      "  Running setup.py bdist_wheel for filelock ... \u001b[?25ldone\n",
      "\u001b[?25h  Stored in directory: /home/jovyan/.cache/pip/wheels/68/e0/0c/ca5c34b3b61ef8d3caf4b7fbbfb2f9f840128ce4015ad52566\n",
      "Successfully built chainer filelock\n",
      "Installing collected packages: filelock, pbr, mock, nose, chainer\n",
      "Successfully installed chainer-3.0.0 filelock-2.0.12 mock-2.0.0 nose-1.3.7 pbr-3.1.1\n"
     ]
    }
   ],
   "source": [
    "!pip install chainer"
   ]
  },
  {
   "cell_type": "markdown",
   "metadata": {},
   "source": [
    "Hyで記述した [Chainerのチュートリアル](https://docs.chainer.org/en/stable/tutorial/basic.html#core-concept)を以下に示します。"
   ]
  },
  {
   "cell_type": "code",
   "execution_count": 1,
   "metadata": {},
   "outputs": [],
   "source": [
    "(import [numpy :as np])\n",
    "(import chainer)\n",
    "(import [chainer [cuda Function gradient_check report training utils Variable\n",
    "                  datasets iterators optimizers serializers Link Chain ChainList]])\n",
    "(import [chainer.functions :as F]\n",
    "        [chainer.links :as L])\n",
    "(import [chainer.training [extensions]])"
   ]
  },
  {
   "cell_type": "code",
   "execution_count": 2,
   "metadata": {},
   "outputs": [
    {
     "name": "stdout",
     "output_type": "stream",
     "text": [
      "16.0\n"
     ]
    }
   ],
   "source": [
    "(def x_data (np.array 5 :dtype np.float32))\n",
    "(def x (Variable x_data))\n",
    "(def y (+ (** x 2) (* -2 x) 1))  ;;y = x**2 - 2 * x + 1\n",
    "(print y.data)"
   ]
  },
  {
   "cell_type": "code",
   "execution_count": 3,
   "metadata": {},
   "outputs": [
    {
     "name": "stdout",
     "output_type": "stream",
     "text": [
      "8.0\n"
     ]
    }
   ],
   "source": [
    "(y.backward)\n",
    "(print x.grad)"
   ]
  },
  {
   "cell_type": "code",
   "execution_count": 4,
   "metadata": {},
   "outputs": [
    {
     "name": "stdout",
     "output_type": "stream",
     "text": [
      "-1.0\n"
     ]
    }
   ],
   "source": [
    "(def z (* 2 x))\n",
    "(def y (+ (** 2 x) (* -1 z) 1))\n",
    "(.backward y :retain_grad True)\n",
    "(print z.grad)"
   ]
  },
  {
   "cell_type": "code",
   "execution_count": 5,
   "metadata": {},
   "outputs": [
    {
     "name": "stdout",
     "output_type": "stream",
     "text": [
      "[[ -0.61370564   0.77258873   3.54517746]\n",
      " [  9.09035492  20.18070984  42.36141968]]\n"
     ]
    }
   ],
   "source": [
    "(def x (Variable (np.array [[1 2 3] [4 5 6]] :dtype np.float32)))\n",
    "(def y (+ (** 2 x) (* -2 x) 1))\n",
    "(def y.grad (np.ones [2 3] :dtype np.float32))\n",
    "(y.backward)\n",
    "(print x.grad)"
   ]
  },
  {
   "cell_type": "code",
   "execution_count": 6,
   "metadata": {},
   "outputs": [
    {
     "name": "stdout",
     "output_type": "stream",
     "text": [
      "[[-0.1960112   0.00162482 -0.16950487]\n",
      " [-0.22733469 -0.23141789 -0.98010153]]\n",
      "[ 0.  0.]\n"
     ]
    }
   ],
   "source": [
    "(def f (L.Linear 3 2))\n",
    "(print f.W.data)\n",
    "(print f.b.data)"
   ]
  },
  {
   "cell_type": "code",
   "execution_count": 7,
   "metadata": {},
   "outputs": [
    {
     "name": "stdout",
     "output_type": "stream",
     "text": [
      "[[-0.70127612 -3.63047504]\n",
      " [-1.79294991 -7.94703722]]\n"
     ]
    }
   ],
   "source": [
    "(def x (Variable (np.array [[1 2 3] [4 5 6]] :dtype np.float32)))\n",
    "(def y (f x))\n",
    "(print y.data)"
   ]
  },
  {
   "cell_type": "code",
   "execution_count": 8,
   "metadata": {},
   "outputs": [],
   "source": [
    "(def l1 (L.Linear 4 3))\n",
    "(def l2 (L.Linear 3 2))\n",
    "(defn my_forward [x]\n",
    "  (def h (l1 x))\n",
    "  (l2 h))"
   ]
  },
  {
   "cell_type": "code",
   "execution_count": 9,
   "metadata": {},
   "outputs": [],
   "source": [
    "(defclass MyProc [object]\n",
    "  (defn --init-- [self]\n",
    "    (def self.l1 (L.Linear 4 3))\n",
    "    (def self.l2 (L.Linear 3 2)))\n",
    "  (defn forward [self x]\n",
    "    (def h (self.l1 x))\n",
    "    (self.l2 h)))"
   ]
  },
  {
   "cell_type": "code",
   "execution_count": 10,
   "metadata": {
    "scrolled": true
   },
   "outputs": [],
   "source": [
    "(defclass MyChain [Chain]\n",
    "  (defn --init-- [self]\n",
    "    (.__init__ (super MyChain self))\n",
    "    (with [(self.init_scope)]\n",
    "      (def self.l1 (L.Linear 4 3))\n",
    "      (def self.l2 (L.Linear 3 2))))\n",
    "\n",
    "  (defn --call-- [self x]\n",
    "    (def h (self.l1 x))\n",
    "    (self.l2 h)))"
   ]
  },
  {
   "cell_type": "code",
   "execution_count": 11,
   "metadata": {},
   "outputs": [],
   "source": [
    "(defclass MyChain2 [ChainList]\n",
    "  (defn --init-- [self]\n",
    "    (.__init__ (super MyChain2 self)\n",
    "                 (L.Linear 4 3)\n",
    "                 (L.Linear 3 2)))\n",
    "\n",
    "  (defn --call-- [self x]\n",
    "    (def h (self[0] x))\n",
    "    (self[1] h)))"
   ]
  },
  {
   "cell_type": "code",
   "execution_count": 12,
   "metadata": {},
   "outputs": [],
   "source": [
    "(def model (MyChain))\n",
    "(def optimizer (optimizers.SGD))\n",
    "(optimizer.setup model)"
   ]
  },
  {
   "cell_type": "code",
   "execution_count": 13,
   "metadata": {},
   "outputs": [],
   "source": [
    "(optimizer.add_hook (chainer.optimizer.WeightDecay 0.0005))"
   ]
  },
  {
   "cell_type": "code",
   "execution_count": 14,
   "metadata": {
    "scrolled": false
   },
   "outputs": [],
   "source": [
    "(def x (.astype (np.random.uniform -1 1 [2 4]) np.float32))\n",
    "(model.cleargrads)\n",
    ";; compute gradient here...\n",
    "(def loss (F.sum (model (chainer.Variable x))))\n",
    "(loss.backward)\n",
    "(optimizer.update)"
   ]
  },
  {
   "cell_type": "code",
   "execution_count": 15,
   "metadata": {},
   "outputs": [],
   "source": [
    "(defn lossfun [arg1 arg2]\n",
    "  (def loss (F.sum (model (- arg1 arg2))))\n",
    "  loss)\n",
    "\n",
    "(def arg1 (.astype (np.random.uniform -1 1 [2 4]) np.float32))\n",
    "(def arg2 (.astype (np.random.uniform -1 1 [2 4]) np.float32))\n",
    "(.update optimizer lossfun (chainer.Variable arg1) (chainer.Variable arg2))"
   ]
  },
  {
   "cell_type": "code",
   "execution_count": 16,
   "metadata": {},
   "outputs": [],
   "source": [
    "(serializers.save_npz \"my.model\" model)"
   ]
  },
  {
   "cell_type": "code",
   "execution_count": 17,
   "metadata": {
    "scrolled": false
   },
   "outputs": [],
   "source": [
    "(def [train test] (datasets.get_mnist))"
   ]
  },
  {
   "cell_type": "code",
   "execution_count": 18,
   "metadata": {},
   "outputs": [],
   "source": [
    "(def train_iter (iterators.SerialIterator train :batch_size 100 :shuffle True))"
   ]
  },
  {
   "cell_type": "code",
   "execution_count": 24,
   "metadata": {},
   "outputs": [],
   "source": [
    "(defclass MLP [Chain]\n",
    "  (defn --init-- [self n_units n_out]\n",
    "    (.__init__ (super MLP self))\n",
    "    (with [(self.init_scope)]\n",
    "      (def self.l1 (L.Linear None n_units))  ;; n_in -> n_units\n",
    "      (def self.l2 (L.Linear None n_units))  ;; n_units -> n_units\n",
    "      (def self.l3 (L.Linear None n_out))))  ;; n_units -> n_out\n",
    "\n",
    "  (defn --call-- [self, x]\n",
    "    (def h1 (F.relu (self.l1 x)))\n",
    "    (def h2 (F.relu (self.l2 h1)))\n",
    "    (def y (self.l3 h2))\n",
    "    y))"
   ]
  },
  {
   "cell_type": "code",
   "execution_count": 25,
   "metadata": {},
   "outputs": [],
   "source": [
    "(def model (L.Classifier MLP 100 10))  ;; the input size, 784, is inferred\n",
    "(def optimizer (optimizers.SGD))\n",
    "(optimizer.setup model)"
   ]
  },
  {
   "cell_type": "code",
   "execution_count": 26,
   "metadata": {},
   "outputs": [],
   "source": [
    "(def updater (training.StandardUpdater train_iter optimizer))\n",
    "(def trainer (training.Trainer updater [20 \"epoch\"] :out \"result\"))"
   ]
  },
  {
   "cell_type": "code",
   "execution_count": 27,
   "metadata": {
    "scrolled": false
   },
   "outputs": [
    {
     "name": "stderr",
     "output_type": "stream",
     "text": [
      "\u001b[0;31mTraceback (most recent call last):\n",
      "  File \"/opt/conda/lib/python3.6/site-packages/calysto_hy/kernel.py\", line 98, in do_execute_direct\n",
      "    eval(code, self.env)\n",
      "  File \"In [27]\", line 1, in <module>\n",
      "  File \"/opt/conda/lib/python3.6/site-packages/chainer/training/trainer.py\", line 313, in run\n",
      "    six.reraise(*sys.exc_info())\n",
      "  File \"/opt/conda/lib/python3.6/site-packages/six.py\", line 686, in reraise\n",
      "    raise value\n",
      "  File \"/opt/conda/lib/python3.6/site-packages/chainer/training/trainer.py\", line 299, in run\n",
      "    update()\n",
      "  File \"/opt/conda/lib/python3.6/site-packages/chainer/training/updater.py\", line 223, in update\n",
      "    self.update_core()\n",
      "  File \"/opt/conda/lib/python3.6/site-packages/chainer/training/updater.py\", line 234, in update_core\n",
      "    optimizer.update(loss_func, *in_arrays)\n",
      "  File \"/opt/conda/lib/python3.6/site-packages/chainer/optimizer.py\", line 528, in update\n",
      "    loss = lossfun(*args, **kwds)\n",
      "  File \"/opt/conda/lib/python3.6/site-packages/chainer/links/model/classifier.py\", line 114, in __call__\n",
      "    self.y = self.predictor(*args, **kwargs)\n",
      "TypeError: __init__() missing 1 required positional argument: 'n_out'\n",
      "\n",
      "\u001b[0m"
     ]
    }
   ],
   "source": [
    "(trainer.run)"
   ]
  }
 ],
 "metadata": {
  "kernelspec": {
   "display_name": "Calysto Hy",
   "language": "hy",
   "name": "calysto_hy"
  },
  "language_info": {
   "codemirror_mode": {
    "name": "scheme"
   },
   "mimetype": "text/x-hylang",
   "name": "hy",
   "pygments_lexer": "lisp"
  }
 },
 "nbformat": 4,
 "nbformat_minor": 2
}
