{
 "cells": [
  {
   "cell_type": "markdown",
   "metadata": {},
   "source": [
    "はじめに\n",
    "-------\n",
    "\n",
    "Hyにより Chainerのサンプルを記述します。"
   ]
  },
  {
   "cell_type": "code",
   "execution_count": 1,
   "metadata": {},
   "outputs": [],
   "source": [
    "(require [hy.extra.anaphoric [*]])"
   ]
  },
  {
   "cell_type": "markdown",
   "metadata": {},
   "source": [
    "Chainerのインストール\n",
    "-----------------"
   ]
  },
  {
   "cell_type": "code",
   "execution_count": 2,
   "metadata": {},
   "outputs": [
    {
     "name": "stdout",
     "output_type": "stream",
     "text": [
      "Collecting chainer\n",
      "  Downloading chainer-3.0.0.tar.gz (339kB)\n",
      "\u001b[K    100% |████████████████████████████████| 348kB 1.2MB/s ta 0:00:011\n",
      "\u001b[?25hCollecting filelock (from chainer)\n",
      "  Downloading filelock-2.0.12.tar.gz\n",
      "Collecting mock (from chainer)\n",
      "  Downloading mock-2.0.0-py2.py3-none-any.whl (56kB)\n",
      "\u001b[K    100% |████████████████████████████████| 61kB 5.3MB/s eta 0:00:01\n",
      "\u001b[?25hCollecting nose (from chainer)\n",
      "  Downloading nose-1.3.7-py3-none-any.whl (154kB)\n",
      "\u001b[K    100% |████████████████████████████████| 163kB 3.9MB/s eta 0:00:01\n",
      "\u001b[?25hRequirement already satisfied: numpy>=1.9.0 in /opt/conda/lib/python3.6/site-packages (from chainer)\n",
      "Requirement already satisfied: protobuf>=3.0.0 in /opt/conda/lib/python3.6/site-packages (from chainer)\n",
      "Requirement already satisfied: six>=1.9.0 in /opt/conda/lib/python3.6/site-packages (from chainer)\n",
      "Collecting pbr>=0.11 (from mock->chainer)\n",
      "  Downloading pbr-3.1.1-py2.py3-none-any.whl (99kB)\n",
      "\u001b[K    100% |████████████████████████████████| 102kB 2.2MB/s a 0:00:01\n",
      "\u001b[?25hRequirement already satisfied: setuptools in /opt/conda/lib/python3.6/site-packages (from protobuf>=3.0.0->chainer)\n",
      "Building wheels for collected packages: chainer, filelock\n",
      "  Running setup.py bdist_wheel for chainer ... \u001b[?25ldone\n",
      "\u001b[?25h  Stored in directory: /home/jovyan/.cache/pip/wheels/50/a6/5f/1b4d884fcc4e079cfc6f60f1ba0f5d1cffff63be09c111e273\n",
      "  Running setup.py bdist_wheel for filelock ... \u001b[?25ldone\n",
      "\u001b[?25h  Stored in directory: /home/jovyan/.cache/pip/wheels/68/e0/0c/ca5c34b3b61ef8d3caf4b7fbbfb2f9f840128ce4015ad52566\n",
      "Successfully built chainer filelock\n",
      "Installing collected packages: filelock, pbr, mock, nose, chainer\n",
      "Successfully installed chainer-3.0.0 filelock-2.0.12 mock-2.0.0 nose-1.3.7 pbr-3.1.1\n"
     ]
    }
   ],
   "source": [
    "!pip install chainer"
   ]
  },
  {
   "cell_type": "markdown",
   "metadata": {},
   "source": [
    "Hyで記述した [Chainerのチュートリアル](https://docs.chainer.org/en/stable/tutorial/basic.html#core-concept)を以下に示します。"
   ]
  },
  {
   "cell_type": "code",
   "execution_count": 160,
   "metadata": {},
   "outputs": [],
   "source": [
    "(import [numpy :as np])\n",
    "(import chainer)\n",
    "(import [chainer [cuda Function gradient_check report training utils Variable\n",
    "                  datasets iterators optimizers serializers Link Chain ChainList]])\n",
    "(import [chainer.functions :as F]\n",
    "        [chainer.links :as L])\n",
    "(import [chainer.training [extensions]])"
   ]
  },
  {
   "cell_type": "code",
   "execution_count": 64,
   "metadata": {},
   "outputs": [
    {
     "name": "stdout",
     "output_type": "stream",
     "text": [
      "16.0\n"
     ]
    }
   ],
   "source": [
    "(def x_data (.astype (np.array 5) np.float32))\n",
    "(def x (Variable x_data))\n",
    "(def y (+ (** x 2) (* -2 x) 1))  ;;y = x**2 - 2 * x + 1\n",
    "(print y.data)"
   ]
  },
  {
   "cell_type": "code",
   "execution_count": 65,
   "metadata": {},
   "outputs": [
    {
     "name": "stdout",
     "output_type": "stream",
     "text": [
      "8.0\n"
     ]
    }
   ],
   "source": [
    "(.backward y)\n",
    "(print x.grad)"
   ]
  },
  {
   "cell_type": "code",
   "execution_count": 66,
   "metadata": {},
   "outputs": [
    {
     "name": "stdout",
     "output_type": "stream",
     "text": [
      "-1.0\n"
     ]
    }
   ],
   "source": [
    "(def z (* 2 x))\n",
    "(def y (+ (** 2 x) (* -1 z) 1))\n",
    "(.backward y True)\n",
    "(print z.grad)"
   ]
  },
  {
   "cell_type": "code",
   "execution_count": 123,
   "metadata": {},
   "outputs": [
    {
     "name": "stdout",
     "output_type": "stream",
     "text": [
      "[[ -0.61370564   0.77258873   3.54517746]\n",
      " [  9.09035492  20.18070984  42.36141968]]\n"
     ]
    }
   ],
   "source": [
    "(def x (Variable (.astype (np.array [[1 2 3] [4 5 6]]) np.float32)))\n",
    "(def y (+ (** 2 x) (* -2 x) 1))\n",
    "(def y.grad (.astype (np.ones [2 3]) np.float32))\n",
    "(.backward y)\n",
    "(print x.grad)"
   ]
  },
  {
   "cell_type": "code",
   "execution_count": 133,
   "metadata": {},
   "outputs": [
    {
     "name": "stdout",
     "output_type": "stream",
     "text": [
      "[[-0.00143303  0.40721077 -0.38072318]\n",
      " [ 0.3487666   0.83152848  0.17531426]]\n",
      "[ 0.  0.]\n"
     ]
    }
   ],
   "source": [
    "(def f (L.Linear 3 2))\n",
    "(print f.W.data)\n",
    "(print f.b.data)"
   ]
  },
  {
   "cell_type": "code",
   "execution_count": 136,
   "metadata": {},
   "outputs": [
    {
     "name": "stdout",
     "output_type": "stream",
     "text": [
      "[[-0.32918096  2.53776646]\n",
      " [-0.25401711  6.60459423]]\n"
     ]
    }
   ],
   "source": [
    "(def x (Variable (.astype (np.array [[1 2 3] [4 5 6]]) np.float32)))\n",
    "(def y (f x))\n",
    "(print y.data)"
   ]
  },
  {
   "cell_type": "code",
   "execution_count": 138,
   "metadata": {},
   "outputs": [],
   "source": [
    "(def l1 (L.Linear 4 3))\n",
    "(def l2 (L.Linear 3 2))\n",
    "(defn my_forward [x]\n",
    "  (def h (l1 x))\n",
    "  (l2 h))"
   ]
  },
  {
   "cell_type": "code",
   "execution_count": 143,
   "metadata": {},
   "outputs": [],
   "source": [
    "(defclass MyProc [object]\n",
    "  (defn --init-- [self]\n",
    "    (def self.l1 (L.Linear 4 3))\n",
    "    (def self.l2 (L.Linear 3 2)))\n",
    "  (defn forward [self x]\n",
    "    (def h (self.l1 x))\n",
    "    (self.l2 h)))"
   ]
  },
  {
   "cell_type": "code",
   "execution_count": 228,
   "metadata": {
    "scrolled": true
   },
   "outputs": [],
   "source": [
    "(defclass MyChain [Chain]\n",
    "  (defn --init-- [self]\n",
    "    (.__init__ (super MyChain self))\n",
    "    (with [(.init_scope self)]\n",
    "      (def self.l1 (L.Linear 4 3))\n",
    "      (def self.l2 (L.Linear 3 2))))\n",
    "\n",
    "  (defn --call-- [self x]\n",
    "    (def h (self.l1 x))\n",
    "    (self.l2 h)))"
   ]
  },
  {
   "cell_type": "code",
   "execution_count": 227,
   "metadata": {},
   "outputs": [],
   "source": [
    "(defclass MyChain2 [ChainList]\n",
    "  (defn --init-- [self]\n",
    "    (.__init__ (super MyChain2 self)\n",
    "                 (L.Linear 4 3)\n",
    "                 (L.Linear 3 2)))\n",
    "\n",
    "  (defn --call-- [self x]\n",
    "    (def h (self[0] x))\n",
    "    (self[1] h)))"
   ]
  },
  {
   "cell_type": "code",
   "execution_count": 233,
   "metadata": {},
   "outputs": [],
   "source": [
    "(def model (MyChain))\n",
    "(def optimizer (.SGD optimizers))\n",
    "(.setup optimizer model)"
   ]
  },
  {
   "cell_type": "code",
   "execution_count": 163,
   "metadata": {},
   "outputs": [],
   "source": [
    "(.add_hook optimizer (chainer.optimizer.WeightDecay 0.0005))"
   ]
  },
  {
   "cell_type": "code",
   "execution_count": 262,
   "metadata": {
    "scrolled": false
   },
   "outputs": [],
   "source": [
    "(def x (.astype (np.random.uniform -1 1 [2 4]) np.float32))\n",
    "(.cleargrads model)\n",
    ";; compute gradient here...\n",
    "(def loss (.sum F (model (chainer.Variable x))))\n",
    "(.backward loss)\n",
    "(.update optimizer)"
   ]
  },
  {
   "cell_type": "code",
   "execution_count": 283,
   "metadata": {},
   "outputs": [],
   "source": [
    "(defn lossfun [arg1 arg2]\n",
    "  (def loss (.sum F (model (- arg1 arg2))))\n",
    "  loss)\n",
    "\n",
    "(def arg1 (.astype (np.random.uniform -1 1 [2 4]) np.float32))\n",
    "(def arg2 (.astype (np.random.uniform -1 1 [2 4]) np.float32))\n",
    "(.update optimizer lossfun (chainer.Variable arg1) (chainer.Variable arg2))"
   ]
  },
  {
   "cell_type": "code",
   "execution_count": 291,
   "metadata": {},
   "outputs": [],
   "source": [
    "(.save_npz serializers \"my.model\" model)"
   ]
  },
  {
   "cell_type": "code",
   "execution_count": 295,
   "metadata": {
    "scrolled": false
   },
   "outputs": [
    {
     "name": "stdout",
     "output_type": "stream",
     "text": [
      "Downloading from http://yann.lecun.com/exdb/mnist/train-images-idx3-ubyte.gz...\n",
      "Downloading from http://yann.lecun.com/exdb/mnist/train-labels-idx1-ubyte.gz...\n",
      "Downloading from http://yann.lecun.com/exdb/mnist/t10k-images-idx3-ubyte.gz...\n",
      "Downloading from http://yann.lecun.com/exdb/mnist/t10k-labels-idx1-ubyte.gz...\n"
     ]
    }
   ],
   "source": [
    "(def [train test] (.get_mnist datasets))"
   ]
  },
  {
   "cell_type": "code",
   "execution_count": 300,
   "metadata": {},
   "outputs": [],
   "source": [
    "(def train_iter (.SerialIterator iterators train (def batch_size 100) (def shuffle True)))"
   ]
  },
  {
   "cell_type": "code",
   "execution_count": 301,
   "metadata": {},
   "outputs": [],
   "source": [
    "(defclass MLP [Chain]\n",
    "  (defn --init-- [self n_units n_out]\n",
    "    (.__init__ super MLP self)\n",
    "    (with [(.init_scope self)]\n",
    "      (def self.l1 (L.Linear None n_units))  ;; n_in -> n_units\n",
    "      (def self.l2 (L.Linear None n_units))  ;; n_units -> n_units\n",
    "      (def self.l3 (L.Linear None n_out))))  ;; n_units -> n_out\n",
    "\n",
    "  (defn --call-- [self, x]\n",
    "    (def h1 (.relu F (self.l1 x)))\n",
    "    (def h2 (.relu F (self.l2 h1)))\n",
    "    (def y (self.l3 h2))\n",
    "    y))"
   ]
  },
  {
   "cell_type": "code",
   "execution_count": 302,
   "metadata": {},
   "outputs": [],
   "source": [
    "(def model (.Classifier L MLP 100 10))  ;; the input size, 784, is inferred\n",
    "(def optimizer (.SGD optimizers))\n",
    "(.setup optimizer model)"
   ]
  },
  {
   "cell_type": "code",
   "execution_count": 362,
   "metadata": {},
   "outputs": [],
   "source": [
    "(def updater (.StandardUpdater training train_iter optimizer))\n",
    "(def trainer (.Trainer training updater [20 \"epoch\"] (def out \"result\")))"
   ]
  },
  {
   "cell_type": "code",
   "execution_count": 363,
   "metadata": {},
   "outputs": [
    {
     "name": "stderr",
     "output_type": "stream",
     "text": [
      "\u001b[0;31mTraceback (most recent call last):\n",
      "  File \"/opt/conda/lib/python3.6/site-packages/calysto_hy/kernel.py\", line 98, in do_execute_direct\n",
      "    eval(code, self.env)\n",
      "  File \"In [363]\", line 1, in <module>\n",
      "  File \"/opt/conda/lib/python3.6/site-packages/chainer/training/trainer.py\", line 271, in run\n",
      "    os.makedirs(self.out)\n",
      "  File \"/opt/conda/lib/python3.6/os.py\", line 205, in makedirs\n",
      "    head, tail = path.split(name)\n",
      "  File \"/opt/conda/lib/python3.6/posixpath.py\", line 105, in split\n",
      "    p = os.fspath(p)\n",
      "TypeError: expected str, bytes or os.PathLike object, not NoneType\n",
      "\n",
      "\u001b[0m"
     ]
    }
   ],
   "source": [
    "(.run trainer)"
   ]
  }
 ],
 "metadata": {
  "kernelspec": {
   "display_name": "Calysto Hy",
   "language": "hy",
   "name": "calysto_hy"
  },
  "language_info": {
   "codemirror_mode": {
    "name": "scheme"
   },
   "mimetype": "text/x-hylang",
   "name": "hy",
   "pygments_lexer": "lisp"
  }
 },
 "nbformat": 4,
 "nbformat_minor": 2
}
