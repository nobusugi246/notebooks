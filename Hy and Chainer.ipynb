{
 "cells": [
  {
   "cell_type": "markdown",
   "metadata": {},
   "source": [
    "はじめに\n",
    "-------\n",
    "\n",
    "Hyにより Chainerのサンプルを記述します。"
   ]
  },
  {
   "cell_type": "markdown",
   "metadata": {},
   "source": [
    "Chainerのインストール\n",
    "-----------------"
   ]
  },
  {
   "cell_type": "code",
   "execution_count": null,
   "metadata": {
    "scrolled": true
   },
   "outputs": [],
   "source": [
    "!pip install chainer -U"
   ]
  },
  {
   "cell_type": "markdown",
   "metadata": {},
   "source": [
    "Hyによる Chainerチュートリアル\n",
    "-----------------\n",
    "\n",
    "Hyで記述した [Chainerのチュートリアル](https://docs.chainer.org/en/stable/tutorial/basic.html#core-concept)のコードを以下に示します。"
   ]
  },
  {
   "cell_type": "markdown",
   "metadata": {},
   "source": [
    "```python\n",
    "import numpy as np\n",
    "import chainer\n",
    "from chainer import cuda, Function, gradient_check, report, training, utils, Variable\n",
    "from chainer import datasets, iterators, optimizers, serializers\n",
    "from chainer import Link, Chain, ChainList\n",
    "import chainer.functions as F\n",
    "import chainer.links as L\n",
    "from chainer.training import extensions\n",
    "```"
   ]
  },
  {
   "cell_type": "code",
   "execution_count": null,
   "metadata": {},
   "outputs": [],
   "source": [
    "(import [numpy :as np])\n",
    "(import chainer)\n",
    "(import [chainer [cuda Function gradient_check report training utils Variable\n",
    "                  datasets iterators optimizers serializers Link Chain ChainList]])\n",
    "(import [chainer.functions :as F]\n",
    "        [chainer.links :as L])\n",
    "(import [chainer.training [extensions]])"
   ]
  },
  {
   "cell_type": "markdown",
   "metadata": {},
   "source": [
    "```python\n",
    "x_data = np.array([5], dtype=np.float32)\n",
    "x = Variable(x_data)\n",
    "\n",
    "y = x**2 - 2 * x + 1\n",
    "y.data\n",
    "```"
   ]
  },
  {
   "cell_type": "code",
   "execution_count": null,
   "metadata": {},
   "outputs": [],
   "source": [
    "(def x_data (np.array 5 :dtype np.float32))\n",
    "(def x (Variable x_data))\n",
    "(def y (+ (** x 2) (* -2 x) 1))  ;;y = x**2 - 2 * x + 1\n",
    "(print y.data)"
   ]
  },
  {
   "cell_type": "markdown",
   "metadata": {},
   "source": [
    "```python\n",
    "y.backward()\n",
    "x.grad\n",
    "```"
   ]
  },
  {
   "cell_type": "code",
   "execution_count": null,
   "metadata": {},
   "outputs": [],
   "source": [
    "(y.backward)\n",
    "(print x.grad)"
   ]
  },
  {
   "cell_type": "markdown",
   "metadata": {},
   "source": [
    "```python\n",
    "z = 2*x\n",
    "y = x**2 - z + 1\n",
    "y.backward(retain_grad=True)\n",
    "z.grad\n",
    "```"
   ]
  },
  {
   "cell_type": "code",
   "execution_count": null,
   "metadata": {},
   "outputs": [],
   "source": [
    "(def z (* 2 x))\n",
    "(def y (+ (** 2 x) (- z) 1))\n",
    "(.backward y :retain_grad True)\n",
    "(print z.grad)"
   ]
  },
  {
   "cell_type": "markdown",
   "metadata": {},
   "source": [
    "```python\n",
    "x = Variable(np.array([[1, 2, 3], [4, 5, 6]], dtype=np.float32))\n",
    "y = x**2 - 2*x + 1\n",
    "y.grad = np.ones((2, 3), dtype=np.float32)\n",
    "y.backward()\n",
    "x.grad\n",
    "```"
   ]
  },
  {
   "cell_type": "code",
   "execution_count": null,
   "metadata": {},
   "outputs": [],
   "source": [
    "(def x (Variable (np.array [[1 2 3] [4 5 6]] :dtype np.float32)))\n",
    "(def y (+ (** 2 x) (* -2 x) 1))\n",
    "(def y.grad (np.ones [2 3] :dtype np.float32))\n",
    "(y.backward)\n",
    "(print x.grad)"
   ]
  },
  {
   "cell_type": "markdown",
   "metadata": {},
   "source": [
    "```python\n",
    "f = L.Linear(3, 2)\n",
    "f.W.data\n",
    "f.b.data\n",
    "```"
   ]
  },
  {
   "cell_type": "code",
   "execution_count": null,
   "metadata": {},
   "outputs": [],
   "source": [
    "(def f (L.Linear 3 2))\n",
    "(print f.W.data)\n",
    "(print f.b.data)"
   ]
  },
  {
   "cell_type": "markdown",
   "metadata": {},
   "source": [
    "```python\n",
    "x = Variable(np.array([[1, 2, 3], [4, 5, 6]], dtype=np.float32))\n",
    "y = f(x)\n",
    "y.data\n",
    "```"
   ]
  },
  {
   "cell_type": "code",
   "execution_count": null,
   "metadata": {},
   "outputs": [],
   "source": [
    "(def x (Variable (np.array [[1 2 3] [4 5 6]] :dtype np.float32)))\n",
    "(def y (f x))\n",
    "(print y.data)"
   ]
  },
  {
   "cell_type": "markdown",
   "metadata": {},
   "source": [
    "```python\n",
    "f.cleargrads()\n",
    "y.grad = np.ones((2, 2), dtype=np.float32)\n",
    "y.backward()\n",
    "f.W.grad\n",
    "f.b.grad\n",
    "```"
   ]
  },
  {
   "cell_type": "code",
   "execution_count": null,
   "metadata": {},
   "outputs": [],
   "source": [
    "(f.cleargrads)\n",
    "(def y.grad (np.ones [2 2] :dtype np.float32))\n",
    "(y.backward)\n",
    "(print f.W.grad)\n",
    "(print f.b.grad)"
   ]
  },
  {
   "cell_type": "markdown",
   "metadata": {},
   "source": [
    "```python\n",
    "l1 = L.Linear(4, 3)\n",
    "l2 = L.Linear(3, 2)\n",
    "def my_forward(x):\n",
    "   h = l1(x)\n",
    "   return l2(h)\n",
    "```"
   ]
  },
  {
   "cell_type": "code",
   "execution_count": null,
   "metadata": {},
   "outputs": [],
   "source": [
    "(def l1 (L.Linear 4 3))\n",
    "(def l2 (L.Linear 3 2))\n",
    "(defn my_forward [x]\n",
    "  (def h (l1 x))\n",
    "  (l2 h))"
   ]
  },
  {
   "cell_type": "markdown",
   "metadata": {},
   "source": [
    "```python\n",
    "class MyProc(object):\n",
    "    def __init__(self):\n",
    "        self.l1 = L.Linear(4, 3)\n",
    "        self.l2 = L.Linear(3, 2)\n",
    "\n",
    "    def forward(self, x):\n",
    "        h = self.l1(x)\n",
    "        return self.l2(h)\n",
    "```"
   ]
  },
  {
   "cell_type": "code",
   "execution_count": null,
   "metadata": {},
   "outputs": [],
   "source": [
    "(defclass MyProc [object]\n",
    "  (defn --init-- [self]\n",
    "    (def self.l1 (L.Linear 4 3))\n",
    "    (def self.l2 (L.Linear 3 2)))\n",
    "  (defn forward [self x]\n",
    "    (def h (self.l1 x))\n",
    "    (self.l2 h)))"
   ]
  },
  {
   "cell_type": "markdown",
   "metadata": {},
   "source": [
    "```python\n",
    "class MyChain(Chain):\n",
    "    def __init__(self):\n",
    "        super(MyChain, self).__init__()\n",
    "        with self.init_scope():\n",
    "            self.l1 = L.Linear(4, 3)\n",
    "            self.l2 = L.Linear(3, 2)\n",
    "\n",
    "    def __call__(self, x):\n",
    "        h = self.l1(x)\n",
    "        return self.l2(h)\n",
    "```"
   ]
  },
  {
   "cell_type": "code",
   "execution_count": null,
   "metadata": {
    "scrolled": true
   },
   "outputs": [],
   "source": [
    "(defclass MyChain [Chain]\n",
    "  (defn --init-- [self]\n",
    "    (.__init__ (super MyChain self))\n",
    "    (with [(self.init_scope)]\n",
    "      (def self.l1 (L.Linear 4 3))\n",
    "      (def self.l2 (L.Linear 3 2))))\n",
    "\n",
    "  (defn --call-- [self x]\n",
    "    (def h (self.l1 x))\n",
    "    (self.l2 h)))"
   ]
  },
  {
   "cell_type": "markdown",
   "metadata": {},
   "source": [
    "```python\n",
    "class MyChain2(ChainList):\n",
    "    def __init__(self):\n",
    "        super(MyChain2, self).__init__(\n",
    "            L.Linear(4, 3),\n",
    "            L.Linear(3, 2),\n",
    "        )\n",
    "\n",
    "    def __call__(self, x):\n",
    "        h = self[0](x)\n",
    "        return self[1](h)\n",
    "```"
   ]
  },
  {
   "cell_type": "code",
   "execution_count": null,
   "metadata": {},
   "outputs": [],
   "source": [
    "(defclass MyChain2 [ChainList]\n",
    "  (defn --init-- [self]\n",
    "    (.__init__ (super MyChain2 self)\n",
    "                 (L.Linear 4 3)\n",
    "                 (L.Linear 3 2)))\n",
    "\n",
    "  (defn --call-- [self x]\n",
    "    (def h (self[0] x))\n",
    "    (self[1] h)))"
   ]
  },
  {
   "cell_type": "markdown",
   "metadata": {},
   "source": [
    "```python\n",
    "model = MyChain()\n",
    "optimizer = optimizers.SGD()\n",
    "optimizer.setup(model)\n",
    "```"
   ]
  },
  {
   "cell_type": "code",
   "execution_count": null,
   "metadata": {},
   "outputs": [],
   "source": [
    "(def model (MyChain))\n",
    "(def optimizer (optimizers.SGD))\n",
    "(optimizer.setup model)"
   ]
  },
  {
   "cell_type": "markdown",
   "metadata": {},
   "source": [
    "```python\n",
    "optimizer.add_hook(chainer.optimizer.WeightDecay(0.0005))\n",
    "```"
   ]
  },
  {
   "cell_type": "code",
   "execution_count": null,
   "metadata": {},
   "outputs": [],
   "source": [
    "(optimizer.add_hook (chainer.optimizer.WeightDecay 0.0005))"
   ]
  },
  {
   "cell_type": "markdown",
   "metadata": {},
   "source": [
    "```python\n",
    "x = np.random.uniform(-1, 1, (2, 4)).astype('f')\n",
    "model.cleargrads()\n",
    "# compute gradient here...\n",
    "loss = F.sum(model(chainer.Variable(x)))\n",
    "loss.backward()\n",
    "optimizer.update()\n",
    "```"
   ]
  },
  {
   "cell_type": "code",
   "execution_count": null,
   "metadata": {
    "scrolled": false
   },
   "outputs": [],
   "source": [
    "(def x (.astype (np.random.uniform -1 1 [2 4]) np.float32))\n",
    "(model.cleargrads)\n",
    ";; compute gradient here...\n",
    "(def loss (F.sum (model (chainer.Variable x))))\n",
    "(loss.backward)\n",
    "(optimizer.update)"
   ]
  },
  {
   "cell_type": "markdown",
   "metadata": {},
   "source": [
    "```python\n",
    "def lossfun(arg1, arg2):\n",
    "    # calculate loss\n",
    "    loss = F.sum(model(arg1 - arg2))\n",
    "    return loss\n",
    "arg1 = np.random.uniform(-1, 1, (2, 4)).astype('f')\n",
    "arg2 = np.random.uniform(-1, 1, (2, 4)).astype('f')\n",
    "optimizer.update(lossfun, chainer.Variable(arg1), chainer.Variable(arg2))\n",
    "```"
   ]
  },
  {
   "cell_type": "code",
   "execution_count": null,
   "metadata": {},
   "outputs": [],
   "source": [
    "(defn lossfun [arg1 arg2]\n",
    "  (def loss (F.sum (model (- arg1 arg2))))\n",
    "  loss)\n",
    "\n",
    "(def arg1 (.astype (np.random.uniform -1 1 [2 4]) np.float32))\n",
    "(def arg2 (.astype (np.random.uniform -1 1 [2 4]) np.float32))\n",
    "(optimizer.update lossfun (chainer.Variable arg1) (chainer.Variable arg2))"
   ]
  },
  {
   "cell_type": "markdown",
   "metadata": {},
   "source": [
    "```python\n",
    "serializers.save_npz('my.model', model)\n",
    "```"
   ]
  },
  {
   "cell_type": "code",
   "execution_count": null,
   "metadata": {},
   "outputs": [],
   "source": [
    "(serializers.save_npz \"my.model\" model)"
   ]
  },
  {
   "cell_type": "markdown",
   "metadata": {},
   "source": [
    "```python\n",
    "train, test = datasets.get_mnist()\n",
    "```"
   ]
  },
  {
   "cell_type": "code",
   "execution_count": null,
   "metadata": {
    "scrolled": false
   },
   "outputs": [],
   "source": [
    "(def [train test] (datasets.get_mnist))"
   ]
  },
  {
   "cell_type": "markdown",
   "metadata": {},
   "source": [
    "```python\n",
    "train_iter = iterators.SerialIterator(train, batch_size=100, shuffle=True)\n",
    "```"
   ]
  },
  {
   "cell_type": "code",
   "execution_count": null,
   "metadata": {},
   "outputs": [],
   "source": [
    "(def train_iter (iterators.SerialIterator train :batch_size 100 :shuffle True))"
   ]
  },
  {
   "cell_type": "markdown",
   "metadata": {},
   "source": [
    "```python\n",
    "class MLP(Chain):\n",
    "    def __init__(self, n_units, n_out):\n",
    "        super(MLP, self).__init__()\n",
    "        with self.init_scope():\n",
    "            # the size of the inputs to each layer will be inferred\n",
    "            self.l1 = L.Linear(None, n_units)  # n_in -> n_units\n",
    "            self.l2 = L.Linear(None, n_units)  # n_units -> n_units\n",
    "            self.l3 = L.Linear(None, n_out)    # n_units -> n_out\n",
    "\n",
    "    def __call__(self, x):\n",
    "        h1 = F.relu(self.l1(x))\n",
    "        h2 = F.relu(self.l2(h1))\n",
    "        y = self.l3(h2)\n",
    "        return y\n",
    "```"
   ]
  },
  {
   "cell_type": "code",
   "execution_count": null,
   "metadata": {},
   "outputs": [],
   "source": [
    "(defclass MLP [Chain]\n",
    "  (defn --init-- [self n_units n_out]\n",
    "    (.__init__ (super (MLP self)))\n",
    "    (with [(self.init_scope)]\n",
    "      (def self.l1 (L.Linear None n_units))  ;; n_in -> n_units\n",
    "      (def self.l2 (L.Linear None n_units))  ;; n_units -> n_units\n",
    "      (def self.l3 (L.Linear None n_out))))  ;; n_units -> n_out\n",
    "\n",
    "  (defn --call-- [self, x]\n",
    "    (def h1 (F.relu (self.l1 x)))\n",
    "    (def h2 (F.relu (self.l2 h1)))\n",
    "    (def y (self.l3 h2))\n",
    "    y))"
   ]
  },
  {
   "cell_type": "markdown",
   "metadata": {},
   "source": [
    "```python\n",
    "model = L.Classifier(MLP(100, 10))  # the input size, 784, is inferred\n",
    "optimizer = optimizers.SGD()\n",
    "optimizer.setup(model)\n",
    "```"
   ]
  },
  {
   "cell_type": "code",
   "execution_count": null,
   "metadata": {},
   "outputs": [],
   "source": [
    "(def model (L.Classifier MLP 100 10))  ;; the input size, 784, is inferred\n",
    "(def optimizer (optimizers.SGD))\n",
    "(optimizer.setup model)"
   ]
  },
  {
   "cell_type": "markdown",
   "metadata": {},
   "source": [
    "```python\n",
    "updater = training.StandardUpdater(train_iter, optimizer)\n",
    "trainer = training.Trainer(updater, (20, 'epoch'), out='result')\n",
    "```"
   ]
  },
  {
   "cell_type": "code",
   "execution_count": null,
   "metadata": {},
   "outputs": [],
   "source": [
    "(def updater (training.StandardUpdater train_iter optimizer))\n",
    "(def trainer (training.Trainer updater [20 \"epoch\"] :out \"result\"))"
   ]
  },
  {
   "cell_type": "markdown",
   "metadata": {},
   "source": [
    "```python\n",
    "trainer.extend(extensions.Evaluator(train_iter, model))\n",
    "trainer.extend(extensions.LogReport())\n",
    "trainer.extend(extensions.PrintReport(['epoch', 'main/accuracy', 'validation/main/accuracy']))\n",
    "trainer.extend(extensions.ProgressBar())\n",
    "trainer.run()\n",
    "```"
   ]
  },
  {
   "cell_type": "code",
   "execution_count": null,
   "metadata": {
    "scrolled": false
   },
   "outputs": [],
   "source": [
    "(trainer.extend (extensions.Evaluator train_iter model))\n",
    "(trainer.extend (extensions.LogReport))\n",
    "(trainer.extend (extensions.PrintReport [\"epoch\" \"main/accuracy\" \"validation/main/accuracy\"]))\n",
    "(trainer.extend (extensions.ProgressBar))\n",
    "(trainer.run)"
   ]
  },
  {
   "cell_type": "code",
   "execution_count": null,
   "metadata": {
    "scrolled": true
   },
   "outputs": [],
   "source": [
    "!ls -lRF"
   ]
  }
 ],
 "metadata": {
  "kernelspec": {
   "display_name": "Calysto Hy",
   "language": "hy",
   "name": "calysto_hy"
  }
 },
 "nbformat": 4,
 "nbformat_minor": 2
}
